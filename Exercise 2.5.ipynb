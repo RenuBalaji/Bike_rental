{
 "cells": [
  {
   "cell_type": "markdown",
   "id": "d6c7579f-41f9-418b-8a3b-e52806dedf4e",
   "metadata": {},
   "source": [
    "# 01. Importing libraries"
   ]
  },
  {
   "cell_type": "code",
   "execution_count": 2,
   "id": "be581d39-b809-45fe-adba-0246c7ff7e78",
   "metadata": {},
   "outputs": [
    {
     "name": "stdout",
     "output_type": "stream",
     "text": [
      "keplergl                          0.3.2\n"
     ]
    }
   ],
   "source": [
    "!pip list | grep keplergl"
   ]
  },
  {
   "cell_type": "code",
   "execution_count": 3,
   "id": "154618cd-8a9a-407b-ba5a-87f464d0a0fe",
   "metadata": {},
   "outputs": [
    {
     "name": "stdout",
     "output_type": "stream",
     "text": [
      "/opt/anaconda3/bin/python\n"
     ]
    }
   ],
   "source": [
    "import sys\n",
    "print(sys.executable)"
   ]
  },
  {
   "cell_type": "code",
   "execution_count": 4,
   "id": "5b9f73af-39fa-4716-8fbf-3763cf33fbaa",
   "metadata": {},
   "outputs": [
    {
     "name": "stdout",
     "output_type": "stream",
     "text": [
      "# packages in environment at /opt/anaconda3:\n",
      "#\n",
      "# Name                    Version                   Build  Channel\n",
      "keplergl                  0.3.2                    pypi_0    pypi\n"
     ]
    }
   ],
   "source": [
    "!conda list keplergl"
   ]
  },
  {
   "cell_type": "code",
   "execution_count": null,
   "id": "4197a476-f4dd-4045-a2c9-a081cff3fa29",
   "metadata": {},
   "outputs": [
    {
     "name": "stdout",
     "output_type": "stream",
     "text": [
      "Channels:\n",
      " - conda-forge\n",
      " - defaults\n",
      "Platform: osx-arm64\n",
      "Collecting package metadata (repodata.json): done\n",
      "Solving environment: done\n",
      "\n",
      "## Package Plan ##\n",
      "\n",
      "  environment location: /opt/anaconda3\n",
      "\n",
      "  added / updated specs:\n",
      "    - keplergl\n",
      "\n",
      "\n",
      "The following packages will be downloaded:\n",
      "\n",
      "    package                    |            build\n",
      "    ---------------------------|-----------------\n",
      "    asttokens-2.4.1            |     pyhd8ed1ab_0          28 KB  conda-forge\n",
      "    attrs-24.2.0               |     pyh71513ae_0          55 KB  conda-forge\n",
      "    branca-0.7.2               |     pyhd8ed1ab_0          28 KB  conda-forge\n",
      "    cairo-1.16.0               |       h302bd0f_5         1.0 MB\n",
      "    charset-normalizer-3.4.0   |     pyhd8ed1ab_0          46 KB  conda-forge\n",
      "    click-plugins-1.1.1        |             py_0           9 KB  conda-forge\n",
      "    cligj-0.7.2                |     pyhd8ed1ab_1          10 KB  conda-forge\n",
      "    comm-0.2.2                 |     pyhd8ed1ab_0          12 KB  conda-forge\n",
      "    conda-24.9.2               |  py312h81bd7bf_0         1.1 MB  conda-forge\n",
      "    exceptiongroup-1.2.2       |     pyhd8ed1ab_0          20 KB  conda-forge\n",
      "    executing-2.1.0            |     pyhd8ed1ab_0          28 KB  conda-forge\n",
      "    fiona-1.9.5                |  py312hd77ebd4_0         905 KB\n",
      "    folium-0.17.0              |     pyhd8ed1ab_0          77 KB  conda-forge\n",
      "    fontconfig-2.14.2          |       h82840c6_0         232 KB  conda-forge\n",
      "    freexl-2.0.0               |       ha3de405_0          52 KB\n",
      "    gdal-3.6.2                 |  py312h5ed0132_4         1.6 MB\n",
      "    geopandas-0.14.4           |     pyhd8ed1ab_0           8 KB  conda-forge\n",
      "    geopandas-base-0.14.4      |     pyha770c72_0         997 KB  conda-forge\n",
      "    geos-3.9.1                 |       h9f76cd9_2         872 KB  conda-forge\n",
      "    geotiff-1.7.0              |       h41f0982_3         128 KB\n",
      "    hdf4-4.2.13                |    h0ef36ac_1005         875 KB  conda-forge\n",
      "    ipython-8.28.0             |     pyh707e725_0         586 KB  conda-forge\n",
      "    ipywidgets-8.1.5           |     pyhd8ed1ab_0         111 KB  conda-forge\n",
      "    jedi-0.19.1                |     pyhd8ed1ab_0         822 KB  conda-forge\n",
      "    json-c-0.16                |       hc449e50_0          72 KB  conda-forge\n",
      "    jupyterlab_widgets-3.0.13  |     pyhd8ed1ab_0         182 KB  conda-forge\n",
      "    kealib-1.5.0               |       hba2eb73_1         144 KB\n",
      "    keplergl-0.3.2             |     pyhd8ed1ab_0        14.0 MB  conda-forge\n",
      "    libgdal-3.6.2              |       h0413ea8_4         8.3 MB\n",
      "    libkml-1.3.0               |       hc4d7c42_7         418 KB\n",
      "    libnetcdf-4.8.1            |       h0fce390_4         1.1 MB\n",
      "    libspatialite-5.1.0        |       h87e580a_0         3.8 MB\n",
      "    libzip-1.10.1              |       ha0bc3c6_3         125 KB  conda-forge\n",
      "    mapclassify-2.8.1          |     pyhd8ed1ab_0          57 KB  conda-forge\n",
      "    matplotlib-inline-0.1.7    |     pyhd8ed1ab_0          14 KB  conda-forge\n",
      "    minizip-4.0.3              |       ha89c15f_0          84 KB\n",
      "    nspr-4.35                  |       hb7217d7_0         216 KB  conda-forge\n",
      "    nss-3.89.1                 |       h313beb8_0         1.8 MB\n",
      "    parso-0.8.4                |     pyhd8ed1ab_0          73 KB  conda-forge\n",
      "    pexpect-4.9.0              |     pyhd8ed1ab_0          52 KB  conda-forge\n",
      "    pixman-0.40.0              |       h27ca646_0         285 KB  conda-forge\n",
      "    platformdirs-4.3.6         |     pyhd8ed1ab_0          20 KB  conda-forge\n",
      "    poppler-24.09.0            |       hc1b0c3b_0         1.6 MB\n",
      "    poppler-data-0.4.12        |       hd8ed1ab_0         2.2 MB  conda-forge\n",
      "    proj-9.3.1                 |       h805f6d4_0         2.8 MB\n",
      "    prompt-toolkit-3.0.43      |     pyha770c72_0         264 KB  conda-forge\n",
      "    pure_eval-0.2.3            |     pyhd8ed1ab_0          16 KB  conda-forge\n",
      "    pyproj-3.6.1               |  py312h4d912e0_5         474 KB  conda-forge\n",
      "    python-tzdata-2024.2       |     pyhd8ed1ab_0         139 KB  conda-forge\n",
      "    pytz-2024.2                |     pyhd8ed1ab_0         183 KB  conda-forge\n",
      "    qhull-2020.2               |       hc021e02_2         1.7 MB  conda-forge\n",
      "    setuptools-75.1.0          |     pyhd8ed1ab_0         759 KB  conda-forge\n",
      "    shapely-2.0.5              |  py312ha8c8ce4_0         551 KB\n",
      "    stack_data-0.6.2           |     pyhd8ed1ab_0          26 KB  conda-forge\n",
      "    tiledb-2.3.3               |       hb4a6b97_3         2.3 MB\n",
      "    traittypes-0.2.1           |     pyh9f0ad1d_2          10 KB  conda-forge\n",
      "    uriparser-0.9.7            |       h13dd4ca_1          40 KB  conda-forge\n",
      "    wcwidth-0.2.13             |     pyhd8ed1ab_0          32 KB  conda-forge\n",
      "    widgetsnbextension-4.0.13  |     pyhd8ed1ab_0         878 KB  conda-forge\n",
      "    xerces-c-3.2.4             |       h313beb8_1         2.2 MB\n",
      "    ------------------------------------------------------------\n",
      "                                           Total:        56.4 MB\n",
      "\n",
      "The following NEW packages will be INSTALLED:\n",
      "\n",
      "  asttokens          conda-forge/noarch::asttokens-2.4.1-pyhd8ed1ab_0 \n",
      "  attrs              conda-forge/noarch::attrs-24.2.0-pyh71513ae_0 \n",
      "  branca             conda-forge/noarch::branca-0.7.2-pyhd8ed1ab_0 \n",
      "  cairo              pkgs/main/osx-arm64::cairo-1.16.0-h302bd0f_5 \n",
      "  charset-normalizer conda-forge/noarch::charset-normalizer-3.4.0-pyhd8ed1ab_0 \n",
      "  click-plugins      conda-forge/noarch::click-plugins-1.1.1-py_0 \n",
      "  cligj              conda-forge/noarch::cligj-0.7.2-pyhd8ed1ab_1 \n",
      "  comm               conda-forge/noarch::comm-0.2.2-pyhd8ed1ab_0 \n",
      "  exceptiongroup     conda-forge/noarch::exceptiongroup-1.2.2-pyhd8ed1ab_0 \n",
      "  executing          conda-forge/noarch::executing-2.1.0-pyhd8ed1ab_0 \n",
      "  fiona              pkgs/main/osx-arm64::fiona-1.9.5-py312hd77ebd4_0 \n",
      "  folium             conda-forge/noarch::folium-0.17.0-pyhd8ed1ab_0 \n",
      "  fontconfig         conda-forge/osx-arm64::fontconfig-2.14.2-h82840c6_0 \n",
      "  freexl             pkgs/main/osx-arm64::freexl-2.0.0-ha3de405_0 \n",
      "  gdal               pkgs/main/osx-arm64::gdal-3.6.2-py312h5ed0132_4 \n",
      "  geopandas          conda-forge/noarch::geopandas-0.14.4-pyhd8ed1ab_0 \n",
      "  geopandas-base     conda-forge/noarch::geopandas-base-0.14.4-pyha770c72_0 \n",
      "  geos               conda-forge/osx-arm64::geos-3.9.1-h9f76cd9_2 \n",
      "  geotiff            pkgs/main/osx-arm64::geotiff-1.7.0-h41f0982_3 \n",
      "  h2                 conda-forge/noarch::h2-4.1.0-pyhd8ed1ab_0 \n",
      "  hdf4               conda-forge/osx-arm64::hdf4-4.2.13-h0ef36ac_1005 \n",
      "  hpack              conda-forge/noarch::hpack-4.0.0-pyh9f0ad1d_0 \n",
      "  hyperframe         conda-forge/noarch::hyperframe-6.0.1-pyhd8ed1ab_0 \n",
      "  idna               conda-forge/noarch::idna-3.10-pyhd8ed1ab_0 \n",
      "  ipython            conda-forge/noarch::ipython-8.28.0-pyh707e725_0 \n",
      "  ipywidgets         conda-forge/noarch::ipywidgets-8.1.5-pyhd8ed1ab_0 \n",
      "  jedi               conda-forge/noarch::jedi-0.19.1-pyhd8ed1ab_0 \n",
      "  json-c             conda-forge/osx-arm64::json-c-0.16-hc449e50_0 \n",
      "  jupyterlab_widgets conda-forge/noarch::jupyterlab_widgets-3.0.13-pyhd8ed1ab_0 \n",
      "  kealib             pkgs/main/osx-arm64::kealib-1.5.0-hba2eb73_1 \n",
      "  keplergl           conda-forge/noarch::keplergl-0.3.2-pyhd8ed1ab_0 \n",
      "  libgdal            pkgs/main/osx-arm64::libgdal-3.6.2-h0413ea8_4 \n",
      "  libkml             pkgs/main/osx-arm64::libkml-1.3.0-hc4d7c42_7 \n",
      "  libnetcdf          pkgs/main/osx-arm64::libnetcdf-4.8.1-h0fce390_4 \n",
      "  libspatialite      pkgs/main/osx-arm64::libspatialite-5.1.0-h87e580a_0 \n",
      "  libzip             conda-forge/osx-arm64::libzip-1.10.1-ha0bc3c6_3 \n",
      "  mapclassify        conda-forge/noarch::mapclassify-2.8.1-pyhd8ed1ab_0 \n",
      "  matplotlib-inline  conda-forge/noarch::matplotlib-inline-0.1.7-pyhd8ed1ab_0 \n",
      "  minizip            pkgs/main/osx-arm64::minizip-4.0.3-ha89c15f_0 \n",
      "  nspr               conda-forge/osx-arm64::nspr-4.35-hb7217d7_0 \n",
      "  nss                pkgs/main/osx-arm64::nss-3.89.1-h313beb8_0 \n",
      "  packaging          conda-forge/noarch::packaging-24.1-pyhd8ed1ab_0 \n",
      "  pandas             pkgs/main/osx-arm64::pandas-2.2.2-py312hd77ebd4_0 \n",
      "  parso              conda-forge/noarch::parso-0.8.4-pyhd8ed1ab_0 \n",
      "  pexpect            conda-forge/noarch::pexpect-4.9.0-pyhd8ed1ab_0 \n",
      "  pixman             conda-forge/osx-arm64::pixman-0.40.0-h27ca646_0 \n",
      "  platformdirs       conda-forge/noarch::platformdirs-4.3.6-pyhd8ed1ab_0 \n",
      "  poppler            pkgs/main/osx-arm64::poppler-24.09.0-hc1b0c3b_0 \n",
      "  poppler-data       conda-forge/noarch::poppler-data-0.4.12-hd8ed1ab_0 \n",
      "  proj               pkgs/main/osx-arm64::proj-9.3.1-h805f6d4_0 \n",
      "  prompt-toolkit     conda-forge/noarch::prompt-toolkit-3.0.43-pyha770c72_0 \n",
      "  pure_eval          conda-forge/noarch::pure_eval-0.2.3-pyhd8ed1ab_0 \n",
      "  pygments           conda-forge/noarch::pygments-2.18.0-pyhd8ed1ab_0 \n",
      "  pyproj             conda-forge/osx-arm64::pyproj-3.6.1-py312h4d912e0_5 \n",
      "  python-tzdata      conda-forge/noarch::python-tzdata-2024.2-pyhd8ed1ab_0 \n",
      "  pytz               conda-forge/noarch::pytz-2024.2-pyhd8ed1ab_0 \n",
      "  qhull              conda-forge/osx-arm64::qhull-2020.2-hc021e02_2 \n",
      "  requests           conda-forge/noarch::requests-2.32.3-pyhd8ed1ab_0 \n",
      "  setuptools         conda-forge/noarch::setuptools-75.1.0-pyhd8ed1ab_0 \n",
      "  shapely            pkgs/main/osx-arm64::shapely-2.0.5-py312ha8c8ce4_0 \n",
      "  stack_data         conda-forge/noarch::stack_data-0.6.2-pyhd8ed1ab_0 \n",
      "  tiledb             pkgs/main/osx-arm64::tiledb-2.3.3-hb4a6b97_3 \n",
      "  traittypes         conda-forge/noarch::traittypes-0.2.1-pyh9f0ad1d_2 \n",
      "  typing_extensions  conda-forge/noarch::typing_extensions-4.12.2-pyha770c72_0 \n",
      "  uriparser          conda-forge/osx-arm64::uriparser-0.9.7-h13dd4ca_1 \n",
      "  urllib3            conda-forge/noarch::urllib3-2.2.3-pyhd8ed1ab_0 \n",
      "  wcwidth            conda-forge/noarch::wcwidth-0.2.13-pyhd8ed1ab_0 \n",
      "  widgetsnbextension conda-forge/noarch::widgetsnbextension-4.0.13-pyhd8ed1ab_0 \n",
      "  xerces-c           pkgs/main/osx-arm64::xerces-c-3.2.4-h313beb8_1 \n",
      "\n",
      "The following packages will be UPDATED:\n",
      "\n",
      "  conda              pkgs/main::conda-24.9.1-py312hca03da5~ --> conda-forge::conda-24.9.2-py312h81bd7bf_0 \n",
      "\n",
      "The following packages will be SUPERSEDED by a higher-priority channel:\n",
      "\n",
      "  certifi            pkgs/main/osx-arm64::certifi-2024.8.3~ --> conda-forge/noarch::certifi-2024.8.30-pyhd8ed1ab_0 \n",
      "\n",
      "\n",
      "Proceed ([y]/n)? "
     ]
    }
   ],
   "source": [
    "!conda install -c conda-forge keplergl"
   ]
  },
  {
   "cell_type": "code",
   "execution_count": 5,
   "id": "b2f6ca9c-99ca-4298-ab49-bec650e09c0d",
   "metadata": {},
   "outputs": [
    {
     "name": "stdout",
     "output_type": "stream",
     "text": [
      "Channels:\n",
      " - defaults\n",
      " - conda-forge\n",
      "Platform: osx-arm64\n",
      "Collecting package metadata (repodata.json): done\n",
      "Solving environment: / \u001b[33m\u001b[1mwarning  libmamba\u001b[m Added empty dependency for problem type SOLVER_RULE_UPDATE\n",
      "failed\n",
      "\n",
      "LibMambaUnsatisfiableError: Encountered problems while solving:\n",
      "  - package numpy-1.24.3-py310hb93e574_0 requires python >=3.10,<3.11.0a0, but none of the providers can be installed\n",
      "\n",
      "Could not solve for environment specs\n",
      "The following packages are incompatible\n",
      "├─ \u001b[32mnumpy 1.24** \u001b[0m is installable with the potential options\n",
      "│  ├─ \u001b[32mnumpy 1.24.3\u001b[0m would require\n",
      "│  │  └─ \u001b[32mpython >=3.10,<3.11.0a0 \u001b[0m, which can be installed;\n",
      "│  ├─ \u001b[32mnumpy 1.24.3\u001b[0m would require\n",
      "│  │  └─ \u001b[32mpython >=3.11,<3.12.0a0 \u001b[0m, which can be installed;\n",
      "│  ├─ \u001b[32mnumpy 1.24.3\u001b[0m would require\n",
      "│  │  └─ \u001b[32mpython >=3.8,<3.9.0a0 \u001b[0m, which can be installed;\n",
      "│  ├─ \u001b[32mnumpy 1.24.3\u001b[0m would require\n",
      "│  │  └─ \u001b[32mpython >=3.9,<3.10.0a0 \u001b[0m, which can be installed;\n",
      "│  ├─ \u001b[32mnumpy [1.24.0|1.24.1|1.24.2|1.24.3|1.24.4]\u001b[0m would require\n",
      "│  │  └─ \u001b[32mpython >=3.10,<3.11.0a0 *_cpython\u001b[0m, which can be installed;\n",
      "│  ├─ \u001b[32mnumpy [1.24.0|1.24.1|1.24.2|1.24.3|1.24.4]\u001b[0m would require\n",
      "│  │  └─ \u001b[32mpython >=3.11,<3.12.0a0 *_cpython\u001b[0m, which can be installed;\n",
      "│  ├─ \u001b[32mnumpy [1.24.0|1.24.1|1.24.2|1.24.3|1.24.4]\u001b[0m would require\n",
      "│  │  └─ \u001b[32mpython >=3.8,<3.9.0a0 *_cpython\u001b[0m, which can be installed;\n",
      "│  └─ \u001b[32mnumpy [1.24.0|1.24.1|1.24.2|1.24.3|1.24.4]\u001b[0m would require\n",
      "│     └─ \u001b[32mpython >=3.9,<3.10.0a0 *_cpython\u001b[0m, which can be installed;\n",
      "└─ \u001b[31mpin-1\u001b[0m is not installable because it requires\n",
      "   └─ \u001b[31mpython 3.12.* \u001b[0m, which conflicts with any installable versions previously reported.\n",
      "\n"
     ]
    }
   ],
   "source": [
    "!conda install numpy=1.24"
   ]
  },
  {
   "cell_type": "code",
   "execution_count": 6,
   "id": "c3ff45ab-b0b6-436b-8e8f-f023d0e51c56",
   "metadata": {},
   "outputs": [],
   "source": [
    "import pandas as pd\n",
    "import os\n",
    "from keplergl import KeplerGl\n",
    "from pyproj import CRS \n",
    "import numpy as np\n",
    "from matplotlib import pyplot as plt"
   ]
  },
  {
   "cell_type": "code",
   "execution_count": 7,
   "id": "3ddf1983-9063-44c5-b796-aea3f47c0025",
   "metadata": {},
   "outputs": [],
   "source": [
    "df = pd.read_csv('/Users/renubalaji/Documents/GitHubProjects/Bike_rental_2018/merged_data_new.csv', index_col = 0)"
   ]
  },
  {
   "cell_type": "code",
   "execution_count": 8,
   "id": "e9a5025c-84c6-45f5-9b2c-8f8ea767e9cd",
   "metadata": {},
   "outputs": [],
   "source": [
    "df['value'] = 1\n",
    "df_group = df.groupby(['from_station_name', 'to_station_name'])['value'].count().reset_index()"
   ]
  },
  {
   "cell_type": "code",
   "execution_count": 9,
   "id": "769bdb59-ecda-485c-8267-fe73488ea030",
   "metadata": {},
   "outputs": [
    {
     "name": "stdout",
     "output_type": "stream",
     "text": [
      "                  from_station_name                to_station_name  trip_count\n",
      "0               2112 W Peterson Ave  Avondale Ave & Irving Park Rd           1\n",
      "1               2112 W Peterson Ave       Broadway & Granville Ave           3\n",
      "2               2112 W Peterson Ave           Broadway & Ridge Ave           1\n",
      "3               2112 W Peterson Ave         Broadway & Sheridan Rd           1\n",
      "4               2112 W Peterson Ave       Broadway & Thorndale Ave          24\n",
      "...                             ...                            ...         ...\n",
      "46626  Woodlawn Ave & Lake Park Ave       University Ave & 57th St           2\n",
      "46627  Woodlawn Ave & Lake Park Ave         Woodlawn Ave & 55th St          39\n",
      "46628  Woodlawn Ave & Lake Park Ave   Woodlawn Ave & Lake Park Ave           5\n",
      "46629          Yates Blvd & 75th St       Dorchester Ave & 63rd St           2\n",
      "46630          Yates Blvd & 75th St           Yates Blvd & 75th St           1\n",
      "\n",
      "[46631 rows x 3 columns]\n",
      "449380\n",
      "(449380, 14)\n"
     ]
    }
   ],
   "source": [
    "# Create a value column with 1 for each row\n",
    "df['value'] = 1\n",
    "\n",
    "# Group by start and end station, then count the occurrences\n",
    "df_group = df.groupby(['from_station_name', 'to_station_name'])['value'].count().reset_index()\n",
    "\n",
    "# Rename the 'value' column to something meaningful like 'trip_count'\n",
    "df_group.rename(columns={'value': 'trip_count'}, inplace=True)\n",
    "\n",
    "# View the resulting DataFrame\n",
    "print(df_group)\n",
    "\n",
    "# Print the sum of the 'trip_count' column (total number of trips)\n",
    "print(df_group['trip_count'].sum())\n",
    "\n",
    "# Print the shape of the original DataFrame\n",
    "print(df.shape)\n"
   ]
  },
  {
   "cell_type": "code",
   "execution_count": 10,
   "id": "84c3924b-978a-4466-8f1d-8e78e91cbcce",
   "metadata": {},
   "outputs": [
    {
     "name": "stdout",
     "output_type": "stream",
     "text": [
      "449380\n",
      "(449380, 14)\n"
     ]
    }
   ],
   "source": [
    "# Create a 'value' column and group by start and end station\n",
    "df['value'] = 1\n",
    "df_group = df.groupby(['from_station_name', 'to_station_name'], as_index=False)['value'].sum()\n",
    "\n",
    "# Print the sum of the 'value' column (total number of trips)\n",
    "print(df_group['value'].sum())\n",
    "\n",
    "# Print the shape of the original DataFrame\n",
    "print(df.shape)"
   ]
  },
  {
   "cell_type": "code",
   "execution_count": 11,
   "id": "84d3c974-3a56-49ab-a77b-82db09201a03",
   "metadata": {},
   "outputs": [],
   "source": [
    "df_group.rename(columns = {'from_station_name':'start_station_name','to_station_name' : 'end_station_name',\n",
    "'Value': 'trips'}, inplace = True)"
   ]
  },
  {
   "cell_type": "markdown",
   "id": "862e1066-9266-4e57-a2a7-80506ba84d04",
   "metadata": {},
   "source": [
    "# 02. Creating a Map in Kepler.gl"
   ]
  },
  {
   "cell_type": "code",
   "execution_count": 12,
   "id": "a9eaa9bb-7ed5-45c5-acff-ccf9e39654db",
   "metadata": {},
   "outputs": [
    {
     "name": "stdout",
     "output_type": "stream",
     "text": [
      "User Guide: https://docs.kepler.gl/docs/keplergl-jupyter\n"
     ]
    },
    {
     "data": {
      "application/vnd.jupyter.widget-view+json": {
       "model_id": "349d505446c44398a3b990a08b8f713f",
       "version_major": 2,
       "version_minor": 0
      },
      "text/plain": [
       "KeplerGl(data={'data_1':                  start_station_name               end_station_name  value\n",
       "0          …"
      ]
     },
     "metadata": {},
     "output_type": "display_data"
    }
   ],
   "source": [
    "import ipywidgets as widgets\n",
    "# Create a KeplerGl instance with the height of 700px\n",
    "m = KeplerGl(height=700, data={\"data_1\": df_group})\n",
    "\n",
    "# Display the map\n",
    "m"
   ]
  },
  {
   "cell_type": "code",
   "execution_count": 13,
   "id": "c35dba56-e0f7-4971-8a5c-73514364d0ab",
   "metadata": {},
   "outputs": [
    {
     "name": "stdout",
     "output_type": "stream",
     "text": [
      "Map saved to Divvy_Bike_Trips_Aggregated.html!\n"
     ]
    }
   ],
   "source": [
    "m.save_to_html(file_name='Divvy_Bike_Trips_Aggregated.html')"
   ]
  },
  {
   "cell_type": "code",
   "execution_count": 14,
   "id": "9114fe9e-b3e9-403e-bf4f-647e95c2a90b",
   "metadata": {},
   "outputs": [
    {
     "name": "stdout",
     "output_type": "stream",
     "text": [
      "User Guide: https://docs.kepler.gl/docs/keplergl-jupyter\n"
     ]
    },
    {
     "data": {
      "application/vnd.jupyter.widget-view+json": {
       "model_id": "50ced4b0ebd94a979c3114fd43c58275",
       "version_major": 2,
       "version_minor": 0
      },
      "text/plain": [
       "KeplerGl(config={'version': 'v1', 'config': {'visState': {'layers': [{'id': 'point-layer', 'type': 'point', 'c…"
      ]
     },
     "metadata": {},
     "output_type": "display_data"
    }
   ],
   "source": [
    "from keplergl import KeplerGl\n",
    "\n",
    "# Load your DataFrame (assuming df_group is already defined)\n",
    "# df_group = your DataFrame here\n",
    "\n",
    "# Create a KeplerGl instance\n",
    "m = KeplerGl(height=700, data={\"BikeTrips\": df_group})\n",
    "\n",
    "# Map configuration\n",
    "config = {\n",
    "    \"version\": \"v1\",\n",
    "    \"config\": {\n",
    "        \"visState\": {\n",
    "            \"layers\": [\n",
    "                {\n",
    "                    \"id\": \"point-layer\",\n",
    "                    \"type\": \"point\",\n",
    "                    \"config\": {\n",
    "                        \"dataId\": \"BikeTrips\",\n",
    "                        \"label\": \"Start and End Stations\",\n",
    "                        \"color\": [255, 153, 51],  # Orange points\n",
    "                        \"highlightColor\": [252, 242, 26, 255],\n",
    "                        \"isVisible\": True,\n",
    "                        \"columns\": {\n",
    "                            \"lat\": \"start_lat\",\n",
    "                            \"lng\": \"start_lng\",\n",
    "                            \"altitude\": None\n",
    "                        },\n",
    "                        \"visConfig\": {\n",
    "                            \"radius\": 10,\n",
    "                            \"fixedRadius\": False,\n",
    "                            \"opacity\": 0.8,\n",
    "                            \"colorRange\": {\n",
    "                                \"name\": \"Global Warming\",\n",
    "                                \"type\": \"sequential\",\n",
    "                                \"category\": \"Uber\",\n",
    "                                \"colors\": [\"#5A189A\", \"#3C096C\", \"#9D4EDD\", \"#7B2CBF\", \"#5A189A\"]\n",
    "                            },\n",
    "                            \"strokeColor\": None,\n",
    "                            \"thickness\": 2,\n",
    "                            \"radiusRange\": [0, 50],\n",
    "                            \"filled\": True\n",
    "                        }\n",
    "                    }\n",
    "                },\n",
    "                {\n",
    "                    \"id\": \"arc-layer\",\n",
    "                    \"type\": \"arc\",\n",
    "                    \"config\": {\n",
    "                        \"dataId\": \"BikeTrips\",\n",
    "                        \"label\": \"Arc between Stations\",\n",
    "                        \"color\": [34, 139, 34],  # Green arcs\n",
    "                        \"highlightColor\": [252, 242, 26, 255],\n",
    "                        \"isVisible\": True,\n",
    "                        \"columns\": {\n",
    "                            \"lat0\": \"start_lat\",\n",
    "                            \"lng0\": \"start_lng\",\n",
    "                            \"lat1\": \"end_lat\",\n",
    "                            \"lng1\": \"end_lng\"\n",
    "                        },\n",
    "                        \"visConfig\": {\n",
    "                            \"opacity\": 0.8,\n",
    "                            \"thickness\": 2,\n",
    "                            \"colorRange\": {\n",
    "                                \"name\": \"Sunset\",\n",
    "                                \"type\": \"sequential\",\n",
    "                                \"category\": \"Uber\",\n",
    "                                \"colors\": [\"#FC4A1A\", \"#F7B733\", \"#4ABDAC\"]\n",
    "                            },\n",
    "                            \"sizeRange\": [0, 10],\n",
    "                        }\n",
    "                    }\n",
    "                }\n",
    "            ]\n",
    "        }\n",
    "    }\n",
    "}\n",
    "\n",
    "# Apply the configuration to the map\n",
    "m.config = config\n",
    "\n",
    "# Display the map\n",
    "m\n"
   ]
  },
  {
   "cell_type": "code",
   "execution_count": 15,
   "id": "475c9e9a-0be3-45c5-9f7b-5fa514ce9f25",
   "metadata": {},
   "outputs": [
    {
     "name": "stdout",
     "output_type": "stream",
     "text": [
      "Map saved to Divvy_Bike_Trips_Aggregated.html!\n",
      "Map saved successfully.\n"
     ]
    }
   ],
   "source": [
    "# Save the map to an HTML file\n",
    "m.save_to_html(file_name='Divvy_Bike_Trips_Aggregated.html', read_only=False, config=config)\n",
    "\n",
    "# You can also print a message to confirm the save\n",
    "print(\"Map saved successfully.\")"
   ]
  },
  {
   "cell_type": "code",
   "execution_count": null,
   "id": "b602e491-3d73-4e9f-a3a0-e1e99c663733",
   "metadata": {},
   "outputs": [],
   "source": [
    "# Complete configuration with filters and layers for KeplerGl\n",
    "config = {\n",
    "    \"version\": \"v1\",\n",
    "    \"config\": {\n",
    "        \"visState\": {\n",
    "            \"filters\": [\n",
    "                {\n",
    "                    \"dataId\": \"data_1\",\n",
    "                    \"name\": \"trip_count\",\n",
    "                    \"type\": \"range\",\n",
    "                    \"value\": [1, 100],  # Adjust this range based on your data\n",
    "                    \"enlarged\": True,\n",
    "                    \"fixed\": False,\n",
    "                    \"inverse\": False,\n",
    "                    \"yAxis\": None,\n",
    "                },\n",
    "            ],\n",
    "            \"layers\": [\n",
    "                {\n",
    "                    \"type\": \"point\",\n",
    "                    \"config\": {\n",
    "                        \"dataId\": \"data_1\",\n",
    "                        \"label\": \"Bike Trips\",\n",
    "                        \"color\": [255, 0, 0],  # Red color for points\n",
    "                        \"columns\": {\n",
    "                            \"lat\": \"from_latitude\",\n",
    "                            \"lng\": \"from_longitude\",\n",
    "                            \"value\": \"trip_count\",\n",
    "                        },\n",
    "                        \"isVisible\": True,\n",
    "                        \"visConfig\": {\n",
    "                            \"radius\": 10,\n",
    "                            \"fixedRadius\": True,\n",
    "                            \"opacity\": 0.8,\n",
    "                        },\n",
    "                    },\n",
    "                },\n",
    "                {\n",
    "                    \"type\": \"arc\",\n",
    "                    \"config\": {\n",
    "                        \"dataId\": \"data_1\",\n",
    "                        \"label\": \"Bike Routes\",\n",
    "                        \"color\": [0, 255, 0],  # Green color for arcs\n",
    "                        \"columns\": {\n",
    "                            \"fromLat\": \"from_latitude\",\n",
    "                            \"fromLng\": \"from_longitude\",\n",
    "                            \"toLat\": \"to_latitude\",\n",
    "                            \"toLng\": \"to_longitude\",\n",
    "                        },\n",
    "                        \"isVisible\": True,\n",
    "                        \"visConfig\": {\n",
    "                            \"opacity\": 0.5,\n",
    "                            \"strokeWidth\": 2,\n",
    "                        },\n",
    "                    },\n",
    "                },\n",
    "            ],\n",
    "        },\n",
    "        \"interactionConfig\": {\n",
    "            \"tooltip\": {\n",
    "                \"fieldsToShow\": {\n",
    "                    \"data_1\": [\n",
    "                        {\"name\": \"from_station_name\", \"format\": None},\n",
    "                        {\"name\": \"to_station_name\", \"format\": None},\n",
    "                        {\"name\": \"trip_count\", \"format\": None},\n",
    "                    ],\n",
    "                },\n",
    "                \"enabled\": True,\n",
    "            },\n",
    "        },\n",
    "    },\n",
    "}\n",
    "\n",
    "# Create KeplerGl instance\n",
    "m = KeplerGl(height=700, data={\"data_1\": df_group})\n",
    "\n",
    "# Apply the configuration to the map\n",
    "m.config = config\n",
    "\n",
    "# Display the map in Jupyter Notebook\n",
    "m"
   ]
  },
  {
   "cell_type": "code",
   "execution_count": null,
   "id": "ea53299b-7a97-4eba-8c1f-29d524b2a0d4",
   "metadata": {},
   "outputs": [],
   "source": [
    "# Save the map to HTML\n",
    "m.save_to_html(file_name='Divvy_Bike_Trips_Aggregated.html', read_only=False, config=config)"
   ]
  },
  {
   "cell_type": "code",
   "execution_count": null,
   "id": "1378948a-d2fd-4a15-aa1c-86030921e023",
   "metadata": {},
   "outputs": [],
   "source": [
    " "
   ]
  }
 ],
 "metadata": {
  "kernelspec": {
   "display_name": "Python 3 (ipykernel)",
   "language": "python",
   "name": "python3"
  },
  "language_info": {
   "codemirror_mode": {
    "name": "ipython",
    "version": 3
   },
   "file_extension": ".py",
   "mimetype": "text/x-python",
   "name": "python",
   "nbconvert_exporter": "python",
   "pygments_lexer": "ipython3",
   "version": "3.12.2"
  }
 },
 "nbformat": 4,
 "nbformat_minor": 5
}
